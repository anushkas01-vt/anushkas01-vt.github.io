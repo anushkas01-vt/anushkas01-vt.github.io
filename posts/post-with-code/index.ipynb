{
  "cells": [
    {
      "cell_type": "raw",
      "metadata": {},
      "source": [
        "---\n",
        "title: \"Post With Code\"\n",
        "author: \"Harlow Malloc\"\n",
        "date: \"2023-10-06\"\n",
        "categories: [news, code, analysis]\n",
        "image: \"image.jpg\"\n",
        "---"
      ],
      "id": "67e9b1b3"
    },
    {
      "cell_type": "markdown",
      "metadata": {},
      "source": [
        "This is a post with executable code."
      ],
      "id": "ff4a6040"
    },
    {
      "cell_type": "code",
      "metadata": {},
      "source": [
        "print(\"Hello World!\")"
      ],
      "id": "8d4779c9",
      "execution_count": null,
      "outputs": []
    }
  ],
  "metadata": {
    "kernelspec": {
      "name": "python3",
      "language": "python",
      "display_name": "Python 3 (ipykernel)"
    }
  },
  "nbformat": 4,
  "nbformat_minor": 5
}